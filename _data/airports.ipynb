{
 "cells": [
  {
   "cell_type": "code",
   "execution_count": 28,
   "metadata": {},
   "outputs": [],
   "source": [
    "import pandas as pd\n",
    "from ipyleaflet import Map, Marker"
   ]
  },
  {
   "cell_type": "code",
   "execution_count": 9,
   "metadata": {},
   "outputs": [],
   "source": [
    "df = pd.read_csv('airports.csv', low_memory=False)"
   ]
  },
  {
   "cell_type": "code",
   "execution_count": 17,
   "metadata": {},
   "outputs": [
    {
     "data": {
      "text/html": [
       "<div>\n",
       "<style scoped>\n",
       "    .dataframe tbody tr th:only-of-type {\n",
       "        vertical-align: middle;\n",
       "    }\n",
       "\n",
       "    .dataframe tbody tr th {\n",
       "        vertical-align: top;\n",
       "    }\n",
       "\n",
       "    .dataframe thead th {\n",
       "        text-align: right;\n",
       "    }\n",
       "</style>\n",
       "<table border=\"1\" class=\"dataframe\">\n",
       "  <thead>\n",
       "    <tr style=\"text-align: right;\">\n",
       "      <th></th>\n",
       "      <th>LocationID</th>\n",
       "      <th>X</th>\n",
       "      <th>Y</th>\n",
       "    </tr>\n",
       "  </thead>\n",
       "  <tbody>\n",
       "    <tr>\n",
       "      <th>5066</th>\n",
       "      <td>ATL</td>\n",
       "      <td>-84.427864</td>\n",
       "      <td>33.636700</td>\n",
       "    </tr>\n",
       "    <tr>\n",
       "      <th>4238</th>\n",
       "      <td>ORD</td>\n",
       "      <td>-87.907389</td>\n",
       "      <td>41.979333</td>\n",
       "    </tr>\n",
       "    <tr>\n",
       "      <th>3677</th>\n",
       "      <td>DEN</td>\n",
       "      <td>-104.673167</td>\n",
       "      <td>39.861667</td>\n",
       "    </tr>\n",
       "    <tr>\n",
       "      <th>3113</th>\n",
       "      <td>LAX</td>\n",
       "      <td>-118.408074</td>\n",
       "      <td>33.942500</td>\n",
       "    </tr>\n",
       "    <tr>\n",
       "      <th>14835</th>\n",
       "      <td>DFW</td>\n",
       "      <td>-97.037695</td>\n",
       "      <td>32.897232</td>\n",
       "    </tr>\n",
       "  </tbody>\n",
       "</table>\n",
       "</div>"
      ],
      "text/plain": [
       "      LocationID           X          Y\n",
       "5066         ATL  -84.427864  33.636700\n",
       "4238         ORD  -87.907389  41.979333\n",
       "3677         DEN -104.673167  39.861667\n",
       "3113         LAX -118.408074  33.942500\n",
       "14835        DFW  -97.037695  32.897232"
      ]
     },
     "execution_count": 17,
     "metadata": {},
     "output_type": "execute_result"
    }
   ],
   "source": [
    "# filter to top 250 airports by passengers\n",
    "top_passengers = df[df['FacilityType'] == 'Airport'].nlargest(250, columns='Passengers')[['LocationID', 'X', 'Y']]\n",
    "top_passengers.head()"
   ]
  },
  {
   "cell_type": "code",
   "execution_count": 29,
   "metadata": {},
   "outputs": [
    {
     "data": {
      "application/vnd.jupyter.widget-view+json": {
       "model_id": "e69abc487f7941c698576ed45b80f62d",
       "version_major": 2,
       "version_minor": 0
      },
      "text/plain": [
       "Map(basemap={'url': 'https://{s}.tile.openstreetmap.org/{z}/{x}/{y}.png', 'max_zoom': 19, 'attribution': 'Map …"
      ]
     },
     "metadata": {},
     "output_type": "display_data"
    }
   ],
   "source": [
    "# quick sanity check on a map\n",
    "m = Map(center=(39.50, -98.35), zoom=4)\n",
    "for idx, row in top_passengers.iterrows():\n",
    "    marker = Marker(location=(row['Y'], row['X']), draggable=False)\n",
    "    m.add_layer(marker)\n",
    "m"
   ]
  },
  {
   "cell_type": "code",
   "execution_count": 33,
   "metadata": {},
   "outputs": [],
   "source": [
    "# dump it!\n",
    "with open('top-airports.csv', 'w') as outfd:\n",
    "    outfd.write('code,lat,lng\\n')\n",
    "    for idx, row in top_passengers.iterrows():\n",
    "        outfd.write('%s,%f,%f\\n' % (row['LocationID'], row['Y'], row['X']))"
   ]
  },
  {
   "cell_type": "code",
   "execution_count": null,
   "metadata": {},
   "outputs": [],
   "source": []
  }
 ],
 "metadata": {
  "kernelspec": {
   "display_name": "Python 3",
   "language": "python",
   "name": "python3"
  },
  "language_info": {
   "codemirror_mode": {
    "name": "ipython",
    "version": 3
   },
   "file_extension": ".py",
   "mimetype": "text/x-python",
   "name": "python",
   "nbconvert_exporter": "python",
   "pygments_lexer": "ipython3",
   "version": "3.6.7"
  }
 },
 "nbformat": 4,
 "nbformat_minor": 2
}
